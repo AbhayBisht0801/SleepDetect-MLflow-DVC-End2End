{
 "cells": [
  {
   "cell_type": "code",
   "execution_count": 1,
   "metadata": {},
   "outputs": [],
   "source": [
    "import os"
   ]
  },
  {
   "cell_type": "code",
   "execution_count": 2,
   "metadata": {},
   "outputs": [
    {
     "data": {
      "text/plain": [
       "'c:\\\\Users\\\\bisht\\\\OneDrive\\\\Desktop\\\\Sleep Detection\\\\research'"
      ]
     },
     "execution_count": 2,
     "metadata": {},
     "output_type": "execute_result"
    }
   ],
   "source": [
    "%pwd"
   ]
  },
  {
   "cell_type": "code",
   "execution_count": 3,
   "metadata": {},
   "outputs": [],
   "source": [
    "os.chdir('../')"
   ]
  },
  {
   "cell_type": "code",
   "execution_count": 4,
   "metadata": {},
   "outputs": [
    {
     "data": {
      "text/plain": [
       "'c:\\\\Users\\\\bisht\\\\OneDrive\\\\Desktop\\\\Sleep Detection'"
      ]
     },
     "execution_count": 4,
     "metadata": {},
     "output_type": "execute_result"
    }
   ],
   "source": [
    "%pwd"
   ]
  },
  {
   "cell_type": "code",
   "execution_count": 5,
   "metadata": {},
   "outputs": [],
   "source": [
    "from dataclasses import dataclass\n",
    "from pathlib import Path\n",
    "\n",
    "@dataclass(frozen=True)\n",
    "class TraningConfig:\n",
    "    root_dir:Path\n",
    "    trained_model_path:Path\n",
    "    updated_base_model_path:Path\n",
    "    training_data:Path\n",
    "    params_epochs:int\n",
    "    params_batch_size:int\n",
    "    params_image_size:int\n",
    "    params_is_augmentation:bool\n",
    "\n",
    "\n",
    "\n"
   ]
  },
  {
   "cell_type": "code",
   "execution_count": 6,
   "metadata": {},
   "outputs": [],
   "source": [
    "from src.Sleep_Detection.constants import *\n",
    "from src.Sleep_Detection.utils.common import read_yaml,create_directories\n",
    "import tensorflow as tf"
   ]
  },
  {
   "cell_type": "code",
   "execution_count": 7,
   "metadata": {},
   "outputs": [],
   "source": [
    "class ConfigurationManager:\n",
    "    def __init__(self,\n",
    "                config_filepath=CONFIG_FILE_PATH,\n",
    "                params_filepath=PARAMS_FILE_PATH):\n",
    "        self.params=read_yaml(params_filepath)\n",
    "        self.config=read_yaml(config_filepath)\n",
    "        create_directories([self.config.artifacts_root])\n",
    "    def get_training_config(self) ->TraningConfig:\n",
    "        training=self.config.training\n",
    "        prepare_base_model=self.config.prepare_base_model\n",
    "        params=self.params\n",
    "        training_data=os.path.join(self.config.data_ingestion.unzip_dir,'dataset/train')\n",
    "        create_directories([Path(training.root_dir)])\n",
    "\n",
    "        training_config=TraningConfig(\n",
    "            root_dir=Path(training.root_dir),\n",
    "            trained_model_path=Path(training.trained_model_path),\n",
    "            updated_base_model_path=Path(prepare_base_model.updated_base_model_path),\n",
    "            training_data=Path(training_data),\n",
    "            params_epochs=params.EPOCHS,\n",
    "            params_batch_size=params.BATCH_SIZE,\n",
    "            params_image_size=params.IMAGE_SIZE,\n",
    "            params_is_augmentation=params.AUGMENTATION\n",
    "        )\n",
    "        return training_config\n",
    "\n"
   ]
  },
  {
   "cell_type": "code",
   "execution_count": 8,
   "metadata": {},
   "outputs": [],
   "source": [
    "import os\n",
    "import tensorflow as tf\n",
    "import time"
   ]
  },
  {
   "cell_type": "code",
   "execution_count": 9,
   "metadata": {},
   "outputs": [],
   "source": [
    "class Training:\n",
    "    def __init__(self,config:TraningConfig):\n",
    "        self.config=config\n",
    "    def get_base_model(self):\n",
    "        self.model=tf.keras.models.load_model(\n",
    "            self.config.updated_base_model_path\n",
    "        )\n",
    "    def train_valid_generator(self):\n",
    "        datagenerator=dict(rescale=1./255,\n",
    "                           validation_split=0.2)\n",
    "        dataflow=dict(target_size=self.config.params_image_size[:-1],\n",
    "                      batch_size=self.config.params_batch_size,\n",
    "                      interpolation='bilinear')\n",
    "        validation_datagenrator=tf.keras.preprocessing.image.ImageDataGenerator(\n",
    "            **datagenerator\n",
    "        )\n",
    "        self.valid_generator=validation_datagenrator.flow_from_directory(\n",
    "            directory=self.config.training_data,\n",
    "            subset='validation',\n",
    "            shuffle=False,\n",
    "            **dataflow\n",
    "        )\n",
    "        if self.config.params_is_augmentation:\n",
    "            train_datagenerator=tf.keras.preprocessing.image.ImageDataGenerator(\n",
    "                rotation_range=90,\n",
    "                horizontal_flip=True,\n",
    "                **datagenerator\n",
    "            )\n",
    "        else:\n",
    "            train_datagenerator=validation_datagenrator\n",
    "        self.train_generator=train_datagenerator.flow_from_directory(\n",
    "            directory=self.config.training_data,\n",
    "            subset='training',\n",
    "            shuffle=True,\n",
    "            **dataflow\n",
    "        )\n",
    "        \n",
    "    @staticmethod\n",
    "    def save_model(path:Path,model:tf.keras.Model):\n",
    "        model.save(path)\n",
    "            \n",
    "\n",
    "    def train(self):\n",
    "        self.step_per_epoch=self.train_generator.samples//self.train_generator.batch_size\n",
    "        self.validation_epoch=self.valid_generator.samples//self.valid_generator.batch_size\n",
    "        self.model.fit(self.train_generator,epochs=self.config.params_epochs,\n",
    "        steps_per_epoch=self.step_per_epoch,\n",
    "        validation_steps=self.validation_epoch,\n",
    "        validation_data=self.valid_generator)\n",
    "\n",
    "        self.save_model(path=self.config.trained_model_path,model=self.model)"
   ]
  },
  {
   "cell_type": "code",
   "execution_count": 10,
   "metadata": {},
   "outputs": [
    {
     "name": "stdout",
     "output_type": "stream",
     "text": [
      "[2024-02-17 20:19:06,884: INFO: common: yaml file: params.yaml loaded successfully]\n",
      "[2024-02-17 20:19:06,886: INFO: common: yaml file: config\\config.yaml loaded successfully]\n",
      "[2024-02-17 20:19:06,887: INFO: common: created directory at: artifacts]\n",
      "[2024-02-17 20:19:06,888: INFO: common: created directory at: artifacts\\training]\n",
      "Found 230 images belonging to 2 classes.\n",
      "Found 923 images belonging to 2 classes.\n",
      "Epoch 1/15\n",
      "28/28 [==============================] - 139s 5s/step - loss: 3.9944 - accuracy: 0.5937 - val_loss: 2.4891 - val_accuracy: 0.5312\n",
      "Epoch 2/15\n",
      "28/28 [==============================] - 124s 4s/step - loss: 0.9375 - accuracy: 0.6251 - val_loss: 0.4603 - val_accuracy: 0.7768\n",
      "Epoch 3/15\n",
      "28/28 [==============================] - 125s 4s/step - loss: 0.5082 - accuracy: 0.7632 - val_loss: 0.4655 - val_accuracy: 0.7946\n",
      "Epoch 4/15\n",
      "28/28 [==============================] - 129s 5s/step - loss: 0.5084 - accuracy: 0.7430 - val_loss: 0.5991 - val_accuracy: 0.6562\n",
      "Epoch 5/15\n",
      "28/28 [==============================] - 145s 5s/step - loss: 0.4423 - accuracy: 0.7991 - val_loss: 0.3692 - val_accuracy: 0.8259\n",
      "Epoch 6/15\n",
      "28/28 [==============================] - 156s 6s/step - loss: 0.4354 - accuracy: 0.7957 - val_loss: 0.3641 - val_accuracy: 0.8527\n",
      "Epoch 7/15\n",
      "28/28 [==============================] - 144s 5s/step - loss: 0.3752 - accuracy: 0.8215 - val_loss: 0.3404 - val_accuracy: 0.8661\n",
      "Epoch 8/15\n",
      "28/28 [==============================] - 136s 5s/step - loss: 0.3786 - accuracy: 0.8249 - val_loss: 0.3423 - val_accuracy: 0.8259\n",
      "Epoch 9/15\n",
      "28/28 [==============================] - 131s 5s/step - loss: 0.3910 - accuracy: 0.8215 - val_loss: 0.3339 - val_accuracy: 0.8482\n",
      "Epoch 10/15\n",
      "28/28 [==============================] - 129s 5s/step - loss: 0.3310 - accuracy: 0.8395 - val_loss: 0.3318 - val_accuracy: 0.8705\n",
      "Epoch 11/15\n",
      "28/28 [==============================] - 124s 4s/step - loss: 0.3409 - accuracy: 0.8418 - val_loss: 0.3044 - val_accuracy: 0.8929\n",
      "Epoch 12/15\n",
      "28/28 [==============================] - 122s 4s/step - loss: 0.2996 - accuracy: 0.8653 - val_loss: 0.3163 - val_accuracy: 0.8571\n",
      "Epoch 13/15\n",
      "28/28 [==============================] - 122s 4s/step - loss: 0.3256 - accuracy: 0.8496 - val_loss: 0.3970 - val_accuracy: 0.8438\n",
      "Epoch 14/15\n",
      "28/28 [==============================] - 122s 4s/step - loss: 0.4219 - accuracy: 0.7374 - val_loss: 0.3800 - val_accuracy: 0.8348\n",
      "Epoch 15/15\n",
      "28/28 [==============================] - 121s 4s/step - loss: 0.3269 - accuracy: 0.8440 - val_loss: 0.3197 - val_accuracy: 0.8661\n"
     ]
    }
   ],
   "source": [
    "try:    \n",
    "    config=ConfigurationManager()\n",
    "    trainer_config=config.get_training_config()\n",
    "    training=Training(config=trainer_config)\n",
    "    training.get_base_model()\n",
    "    training.train_valid_generator()\n",
    "    training.train()\n",
    "except Exception as e:\n",
    "    raise e\n"
   ]
  },
  {
   "cell_type": "code",
   "execution_count": null,
   "metadata": {},
   "outputs": [
    {
     "ename": "AttributeError",
     "evalue": "'_io.BufferedReader' object has no attribute 'load'",
     "output_type": "error",
     "traceback": [
      "\u001b[1;31m---------------------------------------------------------------------------\u001b[0m",
      "\u001b[1;31mAttributeError\u001b[0m                            Traceback (most recent call last)",
      "Cell \u001b[1;32mIn[13], line 3\u001b[0m\n\u001b[0;32m      1\u001b[0m \u001b[38;5;28;01mimport\u001b[39;00m \u001b[38;5;21;01mpickle\u001b[39;00m\n\u001b[0;32m      2\u001b[0m \u001b[38;5;28;01mwith\u001b[39;00m \u001b[38;5;28mopen\u001b[39m(\u001b[38;5;124mr\u001b[39m\u001b[38;5;124m'\u001b[39m\u001b[38;5;124mC:\u001b[39m\u001b[38;5;124m\\\u001b[39m\u001b[38;5;124mUsers\u001b[39m\u001b[38;5;130;01m\\\\\u001b[39;00m\u001b[38;5;124mbisht\u001b[39m\u001b[38;5;130;01m\\\\\u001b[39;00m\u001b[38;5;124mOneDrive\u001b[39m\u001b[38;5;124m\\\u001b[39m\u001b[38;5;124mDesktop\u001b[39m\u001b[38;5;130;01m\\\\\u001b[39;00m\u001b[38;5;124mSleep Detection\u001b[39m\u001b[38;5;130;01m\\\\\u001b[39;00m\u001b[38;5;124martifacts\u001b[39m\u001b[38;5;130;01m\\\\\u001b[39;00m\u001b[38;5;124mtraining\u001b[39m\u001b[38;5;130;01m\\\\\u001b[39;00m\u001b[38;5;124mmodel.h5\u001b[39m\u001b[38;5;124m'\u001b[39m,\u001b[38;5;124m'\u001b[39m\u001b[38;5;124mrb\u001b[39m\u001b[38;5;124m'\u001b[39m) \u001b[38;5;28;01mas\u001b[39;00m f:\n\u001b[1;32m----> 3\u001b[0m     model\u001b[38;5;241m=\u001b[39m\u001b[43mf\u001b[49m\u001b[38;5;241;43m.\u001b[39;49m\u001b[43mload\u001b[49m()\n",
      "\u001b[1;31mAttributeError\u001b[0m: '_io.BufferedReader' object has no attribute 'load'"
     ]
    }
   ],
   "source": [
    "import pickle\n",
    "with open(r'C:\\Users\\\\bisht\\\\OneDrive\\Desktop\\\\Sleep Detection\\\\artifacts\\\\training\\\\model.h5','rb') as f:\n",
    "    model=f."
   ]
  },
  {
   "cell_type": "code",
   "execution_count": null,
   "metadata": {},
   "outputs": [],
   "source": []
  },
  {
   "cell_type": "code",
   "execution_count": null,
   "metadata": {},
   "outputs": [],
   "source": []
  }
 ],
 "metadata": {
  "kernelspec": {
   "display_name": "venv",
   "language": "python",
   "name": "python3"
  },
  "language_info": {
   "codemirror_mode": {
    "name": "ipython",
    "version": 3
   },
   "file_extension": ".py",
   "mimetype": "text/x-python",
   "name": "python",
   "nbconvert_exporter": "python",
   "pygments_lexer": "ipython3",
   "version": "3.11.4"
  }
 },
 "nbformat": 4,
 "nbformat_minor": 2
}
