{
 "cells": [
  {
   "cell_type": "code",
   "execution_count": 1,
   "metadata": {},
   "outputs": [],
   "source": [
    "import os"
   ]
  },
  {
   "cell_type": "code",
   "execution_count": 2,
   "metadata": {},
   "outputs": [
    {
     "data": {
      "text/plain": [
       "'c:\\\\Users\\\\bisht\\\\OneDrive\\\\Desktop\\\\Sleep Detection\\\\research'"
      ]
     },
     "execution_count": 2,
     "metadata": {},
     "output_type": "execute_result"
    }
   ],
   "source": [
    "%pwd"
   ]
  },
  {
   "cell_type": "code",
   "execution_count": 3,
   "metadata": {},
   "outputs": [],
   "source": [
    "os.chdir('../')"
   ]
  },
  {
   "cell_type": "code",
   "execution_count": 4,
   "metadata": {},
   "outputs": [
    {
     "data": {
      "text/plain": [
       "'c:\\\\Users\\\\bisht\\\\OneDrive\\\\Desktop\\\\Sleep Detection'"
      ]
     },
     "execution_count": 4,
     "metadata": {},
     "output_type": "execute_result"
    }
   ],
   "source": [
    "%pwd"
   ]
  },
  {
   "cell_type": "code",
   "execution_count": 5,
   "metadata": {},
   "outputs": [],
   "source": [
    "from dataclasses import dataclass\n",
    "from pathlib import Path\n",
    "\n",
    "@dataclass(frozen=True)\n",
    "class TraningConfig:\n",
    "    root_dir:Path\n",
    "    trained_model_path:Path\n",
    "    updated_base_model_path:Path\n",
    "    training_data:Path\n",
    "    params_epochs:int\n",
    "    params_batch_size:int\n",
    "    params_image_size:int\n",
    "    params_is_augmentation:bool\n",
    "\n",
    "\n",
    "\n"
   ]
  },
  {
   "cell_type": "code",
   "execution_count": 6,
   "metadata": {},
   "outputs": [],
   "source": [
    "from src.Sleep_Detection.constants import *\n",
    "from src.Sleep_Detection.utils.common import read_yaml,create_directories\n",
    "import tensorflow as tf"
   ]
  },
  {
   "cell_type": "code",
   "execution_count": 7,
   "metadata": {},
   "outputs": [],
   "source": [
    "class ConfigurationManager:\n",
    "    def __init__(self,\n",
    "                config_filepath=CONFIG_FILE_PATH,\n",
    "                params_filepath=PARAMS_FILE_PATH):\n",
    "        self.params=read_yaml(params_filepath)\n",
    "        self.config=read_yaml(config_filepath)\n",
    "        create_directories([self.config.artifacts_root])\n",
    "    def get_training_config(self) ->TraningConfig:\n",
    "        training=self.config.training\n",
    "        prepare_base_model=self.config.prepare_base_model\n",
    "        params=self.params\n",
    "        training_data=os.path.join(self.config.data_ingestion.unzip_dir,'dataset/train')\n",
    "        create_directories([Path(training.root_dir)])\n",
    "\n",
    "        training_config=TraningConfig(\n",
    "            root_dir=Path(training.root_dir),\n",
    "            trained_model_path=Path(training.trained_model_path),\n",
    "            updated_base_model_path=Path(prepare_base_model.updated_base_model_path),\n",
    "            training_data=Path(training_data),\n",
    "            params_epochs=params.EPOCHS,\n",
    "            params_batch_size=params.BATCH_SIZE,\n",
    "            params_image_size=params.IMAGE_SIZE,\n",
    "            params_is_augmentation=params.AUGMENTATION\n",
    "        )\n",
    "        return training_config\n",
    "\n"
   ]
  },
  {
   "cell_type": "code",
   "execution_count": 8,
   "metadata": {},
   "outputs": [],
   "source": [
    "import os\n",
    "import tensorflow as tf\n",
    "import time"
   ]
  },
  {
   "cell_type": "code",
   "execution_count": 9,
   "metadata": {},
   "outputs": [],
   "source": [
    "class Training:\n",
    "    def __init__(self,config:TraningConfig):\n",
    "        self.config=config\n",
    "    def get_base_model(self):\n",
    "        self.model=tf.keras.models.load_model(\n",
    "            self.config.updated_base_model_path\n",
    "        )\n",
    "    def train_valid_generator(self):\n",
    "        datagenerator=dict(rescale=1./255,\n",
    "                           validation_split=0.2)\n",
    "        dataflow=dict(target_size=self.config.params_image_size[:-1],\n",
    "                      batch_size=self.config.params_batch_size,\n",
    "                      interpolation='bilinear')\n",
    "        validation_datagenrator=tf.keras.preprocessing.image.ImageDataGenerator(\n",
    "            **datagenerator\n",
    "        )\n",
    "        self.valid_generator=validation_datagenrator.flow_from_directory(\n",
    "            directory=self.config.training_data,\n",
    "            subset='validation',\n",
    "            shuffle=False,\n",
    "            **dataflow\n",
    "        )\n",
    "        if self.config.params_is_augmentation:\n",
    "            train_datagenerator=tf.keras.preprocessing.image.ImageDataGenerator(\n",
    "                rotation_range=20,\n",
    "                width_shift_range=0.2,\n",
    "                height_shift_range=0.2,\n",
    "                zoom_range=0.2,\n",
    "                horizontal_flip=True,\n",
    "                **datagenerator\n",
    "            )\n",
    "        else:\n",
    "            train_datagenerator=validation_datagenrator\n",
    "        self.train_generator=train_datagenerator.flow_from_directory(\n",
    "            directory=self.config.training_data,\n",
    "            subset='training',\n",
    "            shuffle=True,\n",
    "            **dataflow\n",
    "        )\n",
    "    @staticmethod\n",
    "    def save_model(path:Path,model:tf.keras.Model):\n",
    "        model.save(path)\n",
    "\n",
    "    def train(self):\n",
    "        self.step_per_epoch=self.train_generator.samples//self.train_generator.batch_size\n",
    "        self.validation_epoch=self.valid_generator.samples//self.valid_generator.batch_size\n",
    "        self.model.fit(self.train_generator,epochs=self.config.params_epochs,\n",
    "        steps_per_epoch=self.step_per_epoch,\n",
    "        validation_steps=self.validation_epoch,\n",
    "        validation_data=self.valid_generator)\n",
    "\n",
    "        self.save_model(path=self.config.trained_model_path,model=self.model)"
   ]
  },
  {
   "cell_type": "code",
   "execution_count": 10,
   "metadata": {},
   "outputs": [
    {
     "name": "stdout",
     "output_type": "stream",
     "text": [
      "[2024-02-11 13:22:13,570: INFO: common: yaml file: params.yaml loaded successfully]\n",
      "[2024-02-11 13:22:13,581: INFO: common: yaml file: config\\config.yaml loaded successfully]\n",
      "[2024-02-11 13:22:13,582: INFO: common: created directory at: artifacts]\n",
      "[2024-02-11 13:22:13,583: INFO: common: created directory at: artifacts\\training]\n"
     ]
    },
    {
     "name": "stdout",
     "output_type": "stream",
     "text": [
      "Found 230 images belonging to 2 classes.\n",
      "Found 923 images belonging to 2 classes.\n",
      "Epoch 1/10\n",
      "57/57 [==============================] - 142s 2s/step - loss: 2.9845 - accuracy: 0.6009 - val_loss: 0.6004 - val_accuracy: 0.7054\n",
      "Epoch 2/10\n",
      "57/57 [==============================] - 127s 2s/step - loss: 0.5628 - accuracy: 0.7244 - val_loss: 0.4247 - val_accuracy: 0.8438\n",
      "Epoch 3/10\n",
      "57/57 [==============================] - 129s 2s/step - loss: 0.4691 - accuracy: 0.7652 - val_loss: 0.3754 - val_accuracy: 0.8348\n",
      "Epoch 4/10\n",
      "57/57 [==============================] - 129s 2s/step - loss: 0.4085 - accuracy: 0.7905 - val_loss: 0.3307 - val_accuracy: 0.8616\n",
      "Epoch 5/10\n",
      "57/57 [==============================] - 126s 2s/step - loss: 0.4279 - accuracy: 0.7817 - val_loss: 0.3165 - val_accuracy: 0.8661\n",
      "Epoch 6/10\n",
      "57/57 [==============================] - 127s 2s/step - loss: 0.3850 - accuracy: 0.7971 - val_loss: 0.3749 - val_accuracy: 0.8438\n",
      "Epoch 7/10\n",
      "57/57 [==============================] - 130s 2s/step - loss: 0.4005 - accuracy: 0.8037 - val_loss: 0.3283 - val_accuracy: 0.8393\n",
      "Epoch 8/10\n",
      "57/57 [==============================] - 126s 2s/step - loss: 0.3872 - accuracy: 0.8049 - val_loss: 0.3330 - val_accuracy: 0.8705\n",
      "Epoch 9/10\n",
      "57/57 [==============================] - 127s 2s/step - loss: 0.3610 - accuracy: 0.8269 - val_loss: 0.3137 - val_accuracy: 0.8661\n",
      "Epoch 10/10\n",
      "57/57 [==============================] - 127s 2s/step - loss: 0.3593 - accuracy: 0.8115 - val_loss: 0.3682 - val_accuracy: 0.8393\n"
     ]
    }
   ],
   "source": [
    "try:    \n",
    "    config=ConfigurationManager()\n",
    "    trainer_config=config.get_training_config()\n",
    "    training=Training(config=trainer_config)\n",
    "    training.get_base_model()\n",
    "    training.train_valid_generator()\n",
    "    training.train()\n",
    "except Exception as e:\n",
    "    raise e\n"
   ]
  },
  {
   "cell_type": "code",
   "execution_count": null,
   "metadata": {},
   "outputs": [],
   "source": [
    "    "
   ]
  },
  {
   "cell_type": "code",
   "execution_count": null,
   "metadata": {},
   "outputs": [],
   "source": []
  },
  {
   "cell_type": "code",
   "execution_count": null,
   "metadata": {},
   "outputs": [],
   "source": []
  }
 ],
 "metadata": {
  "kernelspec": {
   "display_name": "venv",
   "language": "python",
   "name": "python3"
  },
  "language_info": {
   "codemirror_mode": {
    "name": "ipython",
    "version": 3
   },
   "file_extension": ".py",
   "mimetype": "text/x-python",
   "name": "python",
   "nbconvert_exporter": "python",
   "pygments_lexer": "ipython3",
   "version": "3.11.4"
  }
 },
 "nbformat": 4,
 "nbformat_minor": 2
}
